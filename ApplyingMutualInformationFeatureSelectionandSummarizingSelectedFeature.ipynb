{
 "cells": [
  {
   "cell_type": "code",
   "execution_count": 1,
   "id": "52e595bd-3884-4461-b3e4-1b55164e5d87",
   "metadata": {},
   "outputs": [],
   "source": [
    "# mutual information feature slction for categorical data\n",
    "from pandas import read_csv\n",
    "from sklearn.model_selection import train_test_split\n",
    "from sklearn.preprocessing import LabelEncoder\n",
    "from sklearn.preprocessing import OrdinalEncoder\n",
    "from sklearn.feature_selection import mutual_info_classif\n",
    "from sklearn.feature_selection import SelectKBest\n",
    "from matplotlib import pyplot"
   ]
  },
  {
   "cell_type": "code",
   "execution_count": 2,
   "id": "d076fd6e-962c-4f1b-bec3-04a7ae7ffa09",
   "metadata": {},
   "outputs": [],
   "source": [
    "# load the dataset\n",
    "def load_dataset(filename):\n",
    "    # load the dataset\n",
    "    data = read_csv(filename, header=0)\n",
    "    # retrive array\n",
    "    dataset = data.values\n",
    "    # split into input and output varriables\n",
    "    X = dataset[:, :-1]\n",
    "    y = dataset[:, -1]\n",
    "    # format all fields as string\n",
    "    X = X.astype(str)\n",
    "    return X, y"
   ]
  },
  {
   "cell_type": "code",
   "execution_count": 3,
   "id": "cad9a981-ac56-43ff-a725-e7ba8f2a6464",
   "metadata": {},
   "outputs": [],
   "source": [
    "# prepare inpute data\n",
    "def prepare_inputs(X_train, X_test):\n",
    "    oe = OrdinalEncoder()\n",
    "    oe.fit(X_train)\n",
    "    X_train_enc = oe.transform(X_train)\n",
    "    X_test_enc = oe.transform(X_test)\n",
    "    return X_train_enc, X_test_enc"
   ]
  },
  {
   "cell_type": "code",
   "execution_count": 4,
   "id": "9b98049f-ba66-423b-ae1a-cda2d823ca30",
   "metadata": {},
   "outputs": [],
   "source": [
    "# prepare target\n",
    "def prepare_targets(y_train, y_test):\n",
    "    le = LabelEncoder()\n",
    "    le.fit(y_train)\n",
    "    y_train_enc = le.transform(y_train)\n",
    "    y_test_enc = le.transform(y_test)\n",
    "    return y_train_enc, y_test_enc"
   ]
  },
  {
   "cell_type": "code",
   "execution_count": 5,
   "id": "bcf933bc-04c0-4664-8f09-3f327103c22a",
   "metadata": {},
   "outputs": [],
   "source": [
    "# feature selection\n",
    "def select_features(X_train, y_train, X_test):\n",
    "    fs = SelectKBest(score_func=mutual_info_classif, k='all')\n",
    "    fs.fit(X_train, y_train)\n",
    "    X_train_fs = fs.transform(X_train)\n",
    "    X_test_fs = fs.transform(X_test)\n",
    "    return X_train_fs, X_test_fs, fs"
   ]
  },
  {
   "cell_type": "code",
   "execution_count": 6,
   "id": "daafbd50-b239-4e3e-9e66-cd87ad5774a7",
   "metadata": {},
   "outputs": [],
   "source": [
    "# load the dataset\n",
    "X, y = load_dataset('breast-cancer.csv')"
   ]
  },
  {
   "cell_type": "code",
   "execution_count": 7,
   "id": "13f3a2c9-1f1e-4bd4-9d1a-b77475210c9b",
   "metadata": {},
   "outputs": [],
   "source": [
    "# split into train and test sets\n",
    "X_train, X_test, y_train, y_test = train_test_split(X, y, test_size=0.33, random_state=1)"
   ]
  },
  {
   "cell_type": "code",
   "execution_count": 8,
   "id": "30424b85-4e43-4d74-87ae-dfb8848a671d",
   "metadata": {},
   "outputs": [],
   "source": [
    "# prepare input data\n",
    "X_train_enc, X_test_enc = prepare_inputs(X_train, X_test)"
   ]
  },
  {
   "cell_type": "code",
   "execution_count": 9,
   "id": "4ddc7f99-a213-4967-8d92-c5d687cdcc7e",
   "metadata": {},
   "outputs": [],
   "source": [
    "# prepare output data\n",
    "y_train_enc, y_test_enc = prepare_targets(y_train, y_test)"
   ]
  },
  {
   "cell_type": "code",
   "execution_count": 10,
   "id": "3bd7f250-3a5b-4ea6-9645-4deff102b077",
   "metadata": {},
   "outputs": [],
   "source": [
    "# faeture selection\n",
    "X_train_fs, X_test_fs, fs = select_features(X_train_enc, y_train_enc, X_test_enc)"
   ]
  },
  {
   "cell_type": "code",
   "execution_count": 11,
   "id": "e67887a5-142b-4851-a608-161fa3cb8988",
   "metadata": {},
   "outputs": [
    {
     "name": "stdout",
     "output_type": "stream",
     "text": [
      "FAETURE 0: 0.000000\n",
      "FAETURE 1: 0.000000\n",
      "FAETURE 2: 0.005247\n",
      "FAETURE 3: 0.027863\n",
      "FAETURE 4: 0.006210\n",
      "FAETURE 5: 0.029170\n",
      "FAETURE 6: 0.000000\n",
      "FAETURE 7: 0.000000\n",
      "FAETURE 8: 0.000000\n"
     ]
    }
   ],
   "source": [
    "# what scores for the features\n",
    "for i in range(len(fs.scores_)):\n",
    "    print('FAETURE %d: %f' % (i, fs.scores_[i]))"
   ]
  },
  {
   "cell_type": "code",
   "execution_count": 12,
   "id": "523fedc3-4de5-440b-8d97-0bae2157c584",
   "metadata": {},
   "outputs": [
    {
     "data": {
      "image/png": "[encoded data removed]",
      "text/plain": [
       "<Figure size 432x288 with 1 Axes>"
      ]
     },
     "metadata": {
      "needs_background": "light"
     },
     "output_type": "display_data"
    }
   ],
   "source": [
    "# plot the scores\n",
    "pyplot.bar([i for i in range(len(fs.scores_))], fs.scores_)\n",
    "pyplot.show()"
   ]
  }
 ],
 "metadata": {
  "kernelspec": {
   "display_name": "Python 3 (ipykernel)",
   "language": "python",
   "name": "python3"
  },
  "language_info": {
   "codemirror_mode": {
    "name": "ipython",
    "version": 3
   },
   "file_extension": ".py",
   "mimetype": "text/x-python",
   "name": "python",
   "nbconvert_exporter": "python",
   "pygments_lexer": "ipython3",
   "version": "3.10.12"
  }
 },
 "nbformat": 4,
 "nbformat_minor": 5
}
